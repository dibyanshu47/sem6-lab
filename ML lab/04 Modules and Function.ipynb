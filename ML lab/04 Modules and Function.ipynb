{
 "cells": [
  {
   "cell_type": "code",
   "execution_count": 1,
   "id": "63c13874",
   "metadata": {},
   "outputs": [
    {
     "name": "stdout",
     "output_type": "stream",
     "text": [
      "Enter the first number: 5\n",
      "Enter the second number: 10\n",
      "Sum =  15\n",
      "Product =  50\n",
      "Divisor =  0.5\n"
     ]
    }
   ],
   "source": [
    "def summation(a, b):\n",
    "    return a + b\n",
    "def multiplication(a, b):\n",
    "    return a * b\n",
    "def division(a, b):\n",
    "    return a / b\n",
    "a = int(input(\"Enter the first number: \"))\n",
    "b = int(input(\"Enter the second number: \"))\n",
    "print(\"Sum = \", summation(a, b))\n",
    "print(\"Product = \", multiplication(a, b))\n",
    "print(\"Divisor = \", division(a, b))"
   ]
  }
 ],
 "metadata": {
  "kernelspec": {
   "display_name": "Python 3 (ipykernel)",
   "language": "python",
   "name": "python3"
  },
  "language_info": {
   "codemirror_mode": {
    "name": "ipython",
    "version": 3
   },
   "file_extension": ".py",
   "mimetype": "text/x-python",
   "name": "python",
   "nbconvert_exporter": "python",
   "pygments_lexer": "ipython3",
   "version": "3.10.7"
  }
 },
 "nbformat": 4,
 "nbformat_minor": 5
}
