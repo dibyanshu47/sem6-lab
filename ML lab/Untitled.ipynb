{
 "cells": [
  {
   "cell_type": "code",
   "execution_count": 1,
   "id": "bcfe5cce",
   "metadata": {},
   "outputs": [
    {
     "name": "stdout",
     "output_type": "stream",
     "text": [
      "Operation: +, -, *, /\n",
      "Select operations: +\n",
      "Enter first number: 20\n",
      "Enter second number: 30\n",
      "20.0 + 30.0 = 50.0\n"
     ]
    }
   ],
   "source": [
    "print(\"Operation: +, -, *, /\")\n",
    "select = input(\"Select operations: \")\n",
    "\n",
    "num1 = float(input(\"Enter first number: \"))\n",
    "num2 = float(input(\"Enter second number: \"))\n",
    "\n",
    "if select == \"+\":\n",
    "    print(num1, \"+\", num2, \"=\", num1 + num2)\n",
    "elif select == \"-\":\n",
    "    print(num1, \"-\", num2, \"=\", num1 - num2)\n",
    "elif select == \"*\":\n",
    "    print(num1, \"*\", num2, \"=\", num1 * num2)\n",
    "elif select == \"/\":\n",
    "    print(num1, \"/\", num2, \"=\", num1 / num2)\n",
    "else:\n",
    "    print(\"INVALID INPUT\")"
   ]
  }
 ],
 "metadata": {
  "kernelspec": {
   "display_name": "Python 3 (ipykernel)",
   "language": "python",
   "name": "python3"
  },
  "language_info": {
   "codemirror_mode": {
    "name": "ipython",
    "version": 3
   },
   "file_extension": ".py",
   "mimetype": "text/x-python",
   "name": "python",
   "nbconvert_exporter": "python",
   "pygments_lexer": "ipython3",
   "version": "3.10.7"
  }
 },
 "nbformat": 4,
 "nbformat_minor": 5
}
