{
 "cells": [
  {
   "cell_type": "code",
   "execution_count": 1,
   "id": "0cd01119",
   "metadata": {},
   "outputs": [
    {
     "name": "stdout",
     "output_type": "stream",
     "text": [
      "Enter a string: sathyabama @2023\n",
      "Digits:  4\n",
      "Alphabets:  10\n",
      "Special characters:  1\n",
      "Lowercase:  10\n",
      "Uppercase:  0\n"
     ]
    }
   ],
   "source": [
    "def Count(str):\n",
    "  alpha, upper, lower, number, special = 0, 0, 0, 0, 0\n",
    "\n",
    "  for ch in str:\n",
    "    if ch.isalpha():\n",
    "      alpha += 1\n",
    "    if ch.isupper():\n",
    "      upper += 1\n",
    "    elif ch.islower():\n",
    "      lower += 1\n",
    "    elif ch.isdigit():\n",
    "      number += 1\n",
    "    elif ch != \" \":\n",
    "      special += 1\n",
    "  print('Digits: ', number)\n",
    "  print('Alphabets: ', alpha)\n",
    "  print('Special characters: ', special)\n",
    "  print('Lowercase: ', lower)\n",
    "  print('Uppercase: ', upper)\n",
    "\n",
    "str = input(\"Enter a string: \")\n",
    "Count(str)\n"
   ]
  }
 ],
 "metadata": {
  "kernelspec": {
   "display_name": "Python 3 (ipykernel)",
   "language": "python",
   "name": "python3"
  },
  "language_info": {
   "codemirror_mode": {
    "name": "ipython",
    "version": 3
   },
   "file_extension": ".py",
   "mimetype": "text/x-python",
   "name": "python",
   "nbconvert_exporter": "python",
   "pygments_lexer": "ipython3",
   "version": "3.10.7"
  }
 },
 "nbformat": 4,
 "nbformat_minor": 5
}
